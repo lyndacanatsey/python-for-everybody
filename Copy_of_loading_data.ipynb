{
  "nbformat": 4,
  "nbformat_minor": 0,
  "metadata": {
    "colab": {
      "name": "Copy of loading data.ipynb",
      "provenance": []
    },
    "kernelspec": {
      "name": "python3",
      "display_name": "Python 3"
    }
  },
  "cells": [
    {
      "cell_type": "code",
      "metadata": {
        "id": "trCqlIghqsXq",
        "colab_type": "code",
        "colab": {}
      },
      "source": [
        "import pandas as pd"
      ],
      "execution_count": 0,
      "outputs": []
    },
    {
      "cell_type": "code",
      "metadata": {
        "id": "2ygLVa0crdcR",
        "colab_type": "code",
        "colab": {}
      },
      "source": [
        "#help(read_csv)"
      ],
      "execution_count": 0,
      "outputs": []
    },
    {
      "cell_type": "code",
      "metadata": {
        "id": "-va3uhsKr6Jb",
        "colab_type": "code",
        "outputId": "f7e63c8b-b313-4efb-c24e-ef2fcf7140f1",
        "colab": {
          "base_uri": "https://localhost:8080/",
          "height": 216
        }
      },
      "source": [
        "import pandas as pd\n",
        "\n",
        "df=pd.read_csv('https://raw.githubusercontent.com/axrd/datasets/master/sales_data.csv')\n",
        "print(df.shape)\n",
        "df.head()"
      ],
      "execution_count": 10,
      "outputs": [
        {
          "output_type": "stream",
          "text": [
            "(100, 6)\n"
          ],
          "name": "stdout"
        },
        {
          "output_type": "execute_result",
          "data": {
            "text/html": [
              "<div>\n",
              "<style scoped>\n",
              "    .dataframe tbody tr th:only-of-type {\n",
              "        vertical-align: middle;\n",
              "    }\n",
              "\n",
              "    .dataframe tbody tr th {\n",
              "        vertical-align: top;\n",
              "    }\n",
              "\n",
              "    .dataframe thead th {\n",
              "        text-align: right;\n",
              "    }\n",
              "</style>\n",
              "<table border=\"1\" class=\"dataframe\">\n",
              "  <thead>\n",
              "    <tr style=\"text-align: right;\">\n",
              "      <th></th>\n",
              "      <th>Unnamed: 0</th>\n",
              "      <th>Name</th>\n",
              "      <th>Region</th>\n",
              "      <th>Company</th>\n",
              "      <th>Date</th>\n",
              "      <th>Sales</th>\n",
              "    </tr>\n",
              "  </thead>\n",
              "  <tbody>\n",
              "    <tr>\n",
              "      <th>0</th>\n",
              "      <td>0</td>\n",
              "      <td>Brenden Cote</td>\n",
              "      <td>Central African Republic</td>\n",
              "      <td>Metus Corp.</td>\n",
              "      <td>Feb 17, 2018</td>\n",
              "      <td>67044</td>\n",
              "    </tr>\n",
              "    <tr>\n",
              "      <th>1</th>\n",
              "      <td>1</td>\n",
              "      <td>Justina Reed</td>\n",
              "      <td>Namibia</td>\n",
              "      <td>Lobortis Ltd</td>\n",
              "      <td>Apr 27, 2017</td>\n",
              "      <td>89517</td>\n",
              "    </tr>\n",
              "    <tr>\n",
              "      <th>2</th>\n",
              "      <td>2</td>\n",
              "      <td>Daquan Vinson</td>\n",
              "      <td>Svalbard and Jan Mayen Islands</td>\n",
              "      <td>A Mi Consulting</td>\n",
              "      <td>Aug 14, 2016</td>\n",
              "      <td>62705</td>\n",
              "    </tr>\n",
              "    <tr>\n",
              "      <th>3</th>\n",
              "      <td>3</td>\n",
              "      <td>Connor Shelton</td>\n",
              "      <td>Niue</td>\n",
              "      <td>Parturient Consulting</td>\n",
              "      <td>Feb 13, 2017</td>\n",
              "      <td>12675</td>\n",
              "    </tr>\n",
              "    <tr>\n",
              "      <th>4</th>\n",
              "      <td>4</td>\n",
              "      <td>Drew Carlson</td>\n",
              "      <td>Mayotte</td>\n",
              "      <td>Interdum Associates</td>\n",
              "      <td>Sep 26, 2017</td>\n",
              "      <td>86670</td>\n",
              "    </tr>\n",
              "  </tbody>\n",
              "</table>\n",
              "</div>"
            ],
            "text/plain": [
              "   Unnamed: 0            Name  ...          Date  Sales\n",
              "0           0    Brenden Cote  ...  Feb 17, 2018  67044\n",
              "1           1    Justina Reed  ...  Apr 27, 2017  89517\n",
              "2           2   Daquan Vinson  ...  Aug 14, 2016  62705\n",
              "3           3  Connor Shelton  ...  Feb 13, 2017  12675\n",
              "4           4    Drew Carlson  ...  Sep 26, 2017  86670\n",
              "\n",
              "[5 rows x 6 columns]"
            ]
          },
          "metadata": {
            "tags": []
          },
          "execution_count": 10
        }
      ]
    },
    {
      "cell_type": "code",
      "metadata": {
        "id": "W3OdL_kC4sce",
        "colab_type": "code",
        "colab": {}
      },
      "source": [
        ",Name,Region,Company,Date,Sales\n",
        "0,Brenden Cote,Central African Republic,Metus Corp.,\"Feb 17, 2018\",67044\n",
        "1,Justina Reed,Namibia,Lobortis Ltd,\"Apr 27, 2017\",89517\n",
        "2,Daquan Vinson,Svalbard and Jan Mayen Islands,A Mi Consulting,\"Aug 14, 2016\",62705\n",
        "3,Connor Shelton,Niue,Parturient Consulting,\"Feb 13, 2017\",12675\n",
        "4,Drew Carlson,Mayotte,Interdum Associates,\"Sep 26, 2017\",86670\n",
        "5,Yoshio Curtis,Saint Martin,Ultrices Sit Amet Institute,\"Apr 2, 2017\",95955\n",
        "6,Jason Finch,Oman,Dolor Sit Institute,\"Jul 4, 2016\",87802\n",
        "7,Fatima Miranda,Iceland,Tellus Non Corp.,\"Jul 25, 2017\",153\n",
        "8,Roth Clarke,Eritrea,Porttitor Limited,\"Nov 16, 2016\",58574\n",
        "9,Matthew Brown,Dominica,Leo Cras LLC,\"Jan 27, 2018\",63420\n",
        "10,Nero Cooper,Portugal,Dictum Placerat Augue Foundation,\"Apr 23, 2016\",19953\n",
        "11,Kelsey Workman,Tuvalu,Semper Dui Lectus Industries,\"Aug 7, 2016\",19731\n",
        "12,Thane Cox,Tunisia,Morbi Consulting,\"May 14, 2016\",93244\n",
        "13,Wallace Underwood,Denmark,Elit Etiam Foundation,\"Mar 10, 2017\",75469\n",
        "14,Denton Richmond,Argentina,Eu LLP,\"Jan 2, 2018\",47432\n",
        "15,MacKenzie Cross,Tonga,Nam Consequat Dolor Inc.,\"Mar 7, 2018\",37567\n",
        "16,Avram Dickerson,Micronesia,At PC,\"Jan 14, 2017\",80568\n",
        "17,Christine Wilkerson,Georgia,Orci Luctus Et Foundation,\"Dec 25, 2017\",47633\n",
        "18,Jennifer Meyer,Montenegro,Dolor Limited,\"Jun 6, 2016\",69823\n",
        "19,Mechelle Rosario,Malawi,Gravida Foundation,\"Sep 6, 2016\",27036\n",
        "20,Dolan Nolan,Kyrgyzstan,Curae; Institute,\"Dec 7, 2017\",18618\n",
        "21,Cathleen Wong,Portugal,Pharetra Nam Ac LLP,\"Aug 20, 2017\",64228\n",
        "22,Piper Daugherty,China,Eu Limited,\"Jun 7, 2016\",56331\n",
        "23,Jerry Flowers,Fiji,Consectetuer Ipsum Nunc Limited,\"Jul 24, 2017\",5278\n",
        "24,Brenden Gentry,Iceland,Diam Sed Diam Industries,\"Oct 6, 2017\",64906\n",
        "25,Quincy Nicholson,Armenia,Lectus Rutrum Urna Foundation,\"Jan 23, 2017\",95842\n",
        "26,Rosalyn Greene,Marshall Islands,Sem Ut Associates,\"Jul 12, 2016\",11631\n",
        "27,Theodore Wheeler,Mongolia,Libero At Auctor Limited,\"Apr 9, 2016\",54697\n",
        "28,Darius Grant,\"Bonaire, Sint Eustatius and Saba\",Dignissim Magna A Corporation,\"Jun 11, 2017\",10654\n",
        "29,Arden Blankenship,Iran,Montes Institute,\"Jun 24, 2016\",77267\n",
        "30,Margaret Daugherty,Colombia,Cursus Non Associates,\"May 15, 2016\",48103\n",
        "31,Chaney Long,\"Korea, South\",Nec Tellus Nunc LLP,\"Jan 21, 2018\",44860\n",
        "32,Jolie Simpson,Moldova,Et Ultrices Posuere Industries,\"Jan 25, 2018\",45174\n",
        "33,Maxwell Price,Madagascar,Dui Fusce Limited,\"Mar 6, 2017\",48061\n",
        "34,Orson Sullivan,Belgium,Elit Corporation,\"May 21, 2017\",28971\n",
        "35,Victoria Burgess,Yemen,Tincidunt Orci Quis Foundation,\"Jun 21, 2016\",99408\n",
        "36,Ava Mccall,Barbados,Felis Adipiscing Fringilla Limited,\"Dec 4, 2017\",88173\n",
        "37,Chiquita Hines,Saint Martin,Sit Amet Associates,\"Aug 20, 2017\",78160\n",
        "38,Wynne Terrell,Andorra,Ligula Elit Pretium LLC,\"Aug 13, 2017\",34136\n",
        "39,Owen Hart,Netherlands,Sed Corp.,\"Jun 20, 2017\",35189\n",
        "40,Farrah Juarez,Italy,Ac Mi Eleifend LLP,\"Jun 24, 2017\",44099\n",
        "41,Amaya Johnson,Finland,Aliquam Industries,\"Aug 16, 2017\",40721\n",
        "42,Hilary Brooks,Jersey,Sem Ltd,\"Jan 4, 2018\",19595\n",
        "43,Celeste Sellers,Algeria,Ridiculus Institute,\"Apr 11, 2017\",56368\n",
        "44,Leo Stephens,Norway,Pellentesque Sed PC,\"Jun 9, 2016\",67724\n",
        "45,Cruz Woods,Austria,Est Ac Incorporated,\"Jan 28, 2018\",79972\n",
        "46,Abbot Fulton,Montserrat,Ac Mattis Corp.,\"Aug 12, 2017\",99356\n",
        "47,Yeo Brooks,Paraguay,Ligula Nullam Feugiat Incorporated,\"Sep 26, 2016\",401\n",
        "48,Farrah Ward,China,Cursus Et Eros Limited,\"Jul 31, 2016\",77784\n",
        "49,Cadman Conrad,Philippines,Aliquet Libero Integer Associates,\"Oct 12, 2017\",59\n",
        "50,Wesley Daniels,Burundi,Sed Company,\"Jul 24, 2017\",48929\n",
        "51,Hedy Nixon,Cameroon,Accumsan Institute,\"Aug 23, 2016\",41270\n",
        "52,Otto Medina,Sierra Leone,Sodales Foundation,\"Feb 6, 2017\",44332\n",
        "53,Alana Gilmore,Romania,Suspendisse Associates,\"Nov 20, 2016\",93914\n",
        "54,Unity Black,\"Congo, the Democratic Republic of the\",Sagittis LLC,\"Jun 15, 2017\",33110\n",
        "55,Mason Nichols,\"Congo, the Democratic Republic of the\",Sem Elit Foundation,\"May 20, 2016\",50418\n",
        "56,Ava Pierce,Sudan,Nunc Consulting,\"Jul 26, 2016\",12898\n",
        "57,Jenette Alvarado,Kazakhstan,Est Foundation,\"Dec 15, 2017\",19558\n",
        "58,Nichole Maddox,Monaco,Montes Nascetur Industries,\"Jan 31, 2017\",44633\n",
        "59,Mercedes Irwin,Reunion,Sem Eget LLP,\"Dec 22, 2017\",73134\n",
        "60,Darius Howe,India,Sollicitudin A Malesuada Incorporated,\"Jan 30, 2018\",9086\n",
        "61,Herrod Hobbs,Sudan,Urna Convallis Limited,\"Apr 7, 2016\",44685\n",
        "62,Allegra Farrell,Slovenia,Nam Company,\"Apr 21, 2016\",99880\n",
        "63,Ariana Morton,Montserrat,Sed Tortor Limited,\"Mar 30, 2017\",8345\n",
        "64,Colleen Peterson,Egypt,Tellus Justo Sit Ltd,\"Sep 25, 2016\",23335\n",
        "65,Lucas Sanders,Bouvet Island,Sed Consequat Incorporated,\"Jul 13, 2017\",71362\n",
        "66,Beverly Gilmore,Mexico,Morbi Non Associates,\"Jun 15, 2017\",5629\n",
        "67,Armando Jennings,Central African Republic,Morbi Vehicula Pellentesque Consulting,\"Oct 16, 2016\",84253\n",
        "68,Raphael Jefferson,Marshall Islands,Erat Nonummy Corporation,\"Mar 4, 2018\",99752\n",
        "69,Odette Velez,Qatar,Ligula Aenean Consulting,\"Jun 14, 2016\",48762\n",
        "70,Roth Hendrix,Tonga,Faucibus Morbi Vehicula LLC,\"Oct 28, 2016\",53755\n",
        "71,Keane Dillon,Niue,Imperdiet Ornare In Limited,\"Jul 14, 2016\",87054\n",
        "72,Zena Walter,Antarctica,Cubilia Curae; Donec LLP,\"Nov 20, 2016\",94917\n",
        "73,Imani Levy,Albania,A Odio Semper Associates,\"Jun 1, 2017\",23888\n",
        "74,Emmanuel Dickerson,Saint Barthélemy,Felis Ullamcorper Viverra Company,\"Jan 18, 2017\",84065\n",
        "75,Robert Boone,Puerto Rico,Metus In Consulting,\"Jun 24, 2017\",95617\n",
        "76,Noelani Sparks,Chile,Etiam Laoreet Libero LLC,\"Mar 21, 2016\",9198\n",
        "77,Tanya Foster,Taiwan,Vel Lectus Cum Company,\"May 26, 2016\",82303\n",
        "78,Indigo Parrish,Burkina Faso,Fusce Ltd,\"Dec 8, 2016\",31086\n",
        "79,Noel Rojas,Netherlands,Consectetuer Rhoncus Limited,\"Dec 11, 2017\",35317\n",
        "80,Jordan Byers,Zimbabwe,Parturient LLP,\"May 10, 2017\",99114\n",
        "81,Chester Faulkner,Gambia,Non Cursus Non Ltd,\"Feb 20, 2018\",52541\n",
        "82,Kim Guerra,Viet Nam,Phasellus Ornare Fusce LLP,\"Aug 28, 2016\",93162\n",
        "83,Lysandra Christian,Andorra,Risus Odio Auctor Company,\"Jan 16, 2018\",36797\n",
        "84,Acton Matthews,Isle of Man,Proin Limited,\"Jul 22, 2017\",9568\n",
        "85,Amaya Murray,\"Palestine, State of\",Turpis PC,\"Jan 9, 2017\",33138\n",
        "86,Odysseus Chambers,United Kingdom (Great Britain),Feugiat Sed Institute,\"Jan 16, 2017\",73514\n",
        "87,Malachi Horton,Somalia,Molestie Foundation,\"Oct 12, 2017\",46696\n",
        "88,Alea Kinney,Azerbaijan,Velit Limited,\"Jun 13, 2016\",64475\n",
        "89,Hunter Mack,Armenia,Sem Ut LLC,\"Apr 24, 2017\",52408\n",
        "90,Steel Andrews,Togo,Sed Dictum Eleifend Industries,\"Sep 11, 2016\",68311\n",
        "91,Chelsea Pollard,Malawi,Cras Convallis PC,\"May 23, 2016\",55208\n",
        "92,Beverly Goodman,Gibraltar,Fringilla Company,\"Mar 24, 2017\",80038\n",
        "93,Keiko Sexton,Cambodia,Ligula Aenean Industries,\"Jan 11, 2018\",6974\n",
        "94,Doris Mcgee,Macao,Urna Corp.,\"May 28, 2016\",12070\n",
        "95,Mara Beck,Holy See (Vatican City State),Mauris Ut LLC,\"Jul 28, 2016\",33709\n",
        "96,Ainsley Shaw,Seychelles,Ligula Nullam Corp.,\"Dec 5, 2017\",29564\n",
        "97,Libby Lindsey,Qatar,Convallis Corp.,\"Nov 5, 2016\",10583\n",
        "98,Cody Langley,Isle of Man,Est Mollis Company,\"Oct 9, 2017\",98167"
      ],
      "execution_count": 0,
      "outputs": []
    },
    {
      "cell_type": "code",
      "metadata": {
        "id": "45hlrRzg_mBG",
        "colab_type": "code",
        "colab": {
          "base_uri": "https://localhost:8080/",
          "height": 171
        },
        "outputId": "0ba2f4ff-a76f-457c-b0f7-ad93b1d0c29e"
      },
      "source": [
        "sales_data.csv"
      ],
      "execution_count": 18,
      "outputs": [
        {
          "output_type": "error",
          "ename": "NameError",
          "evalue": "ignored",
          "traceback": [
            "\u001b[0;31m---------------------------------------------------------------------------\u001b[0m",
            "\u001b[0;31mNameError\u001b[0m                                 Traceback (most recent call last)",
            "\u001b[0;32m<ipython-input-18-7eaee70e162e>\u001b[0m in \u001b[0;36m<module>\u001b[0;34m()\u001b[0m\n\u001b[0;32m----> 1\u001b[0;31m \u001b[0msales_data\u001b[0m\u001b[0;34m.\u001b[0m\u001b[0mcsv\u001b[0m\u001b[0;34m\u001b[0m\u001b[0;34m\u001b[0m\u001b[0m\n\u001b[0m",
            "\u001b[0;31mNameError\u001b[0m: name 'sales_data' is not defined"
          ]
        }
      ]
    }
  ]
}